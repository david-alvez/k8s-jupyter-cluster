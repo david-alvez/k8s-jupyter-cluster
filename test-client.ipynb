import ipyparallel as ip
c=ip.Client('/home/jovyan/work/security/ipcontroller-client.json')
c.ids
