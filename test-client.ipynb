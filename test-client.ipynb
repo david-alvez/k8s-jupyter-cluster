import os
import ipyparallel as ipp

rc = ipp.Client()
ar = rc[:].apply_async(os.getpid)
pid_map = ar.get_dict()


import ipyparallel as ip
c=ip.Client('/home/jupyter/work/security/ipcontroller-client.json')
c.ids
